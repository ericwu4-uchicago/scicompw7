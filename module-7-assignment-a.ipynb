{
 "cells": [
  {
   "cell_type": "markdown",
   "metadata": {},
   "source": [
    "# MPCS56430 Assignment 7A\n",
    "\n",
    "\n",
    "## Problem 1. Sequence 1 Analysis\n",
    "Use the [NCBI BLAST webservice](https://www.ncbi.nlm.nih.gov) to answer the following questions about this sequence. Make sure that you select Nucleotide Blast.\n",
    "\n",
    "```\n",
    ">Sequence1\n",
    "AACAATTCATTTTTCCTGCTTTCCTAGAAAATTCTATAAAAGCTTCAAAA\n",
    "TGAATTACTTGGTGATGATTAGTTTGGCACTTCTCTTCGTGACAGGTGTA\n",
    "GAGAGTGTAAAAGACGGTTATATTGTCGACGATGTAAACTGCACATACTT\n",
    "TTGTGGTAGAAATGCATACTGCAACGAGGAATGTACCAAGTTGAAAGGTG\n",
    "AGAGTGGTTATTGCCAATGGGCAAGTCCATATGGAAACGCCTGTTATTGC\n",
    "TATAAATTGCCCGATCATGTACGTACTAAAGGACCAGGAAGATGCCATGG\n",
    "CCGATAAATTATAAGATGGAATGTATCCTAAGTATCAATGTTAAATAAAT\n",
    "ATAATCAAAAAATT\n",
    "```"
   ]
  },
  {
   "cell_type": "markdown",
   "metadata": {},
   "source": [
    "A. What is the length of the query sequence?"
   ]
  },
  {
   "cell_type": "code",
   "execution_count": 1,
   "metadata": {},
   "outputs": [
    {
     "name": "stdout",
     "output_type": "stream",
     "text": [
      "364\n"
     ]
    }
   ],
   "source": [
    "print(len(\"AACAATTCATTTTTCCTGCTTTCCTAGAAAATTCTATAAAAGCTTCAAAATGAATTACTTGGTGATGATTAGTTTGGCACTTCTCTTCGTGACAGGTGTAGAGAGTGTAAAAGACGGTTATATTGTCGACGATGTAAACTGCACATACTTTTGTGGTAGAAATGCATACTGCAACGAGGAATGTACCAAGTTGAAAGGTGAGAGTGGTTATTGCCAATGGGCAAGTCCATATGGAAACGCCTGTTATTGCTATAAATTGCCCGATCATGTACGTACTAAAGGACCAGGAAGATGCCATGGCCGATAAATTATAAGATGGAATGTATCCTAAGTATCAATGTTAAATAAATATAATCAAAAAATT\"))"
   ]
  },
  {
   "cell_type": "markdown",
   "metadata": {},
   "source": [
    "A. What is the most likely function encoded by this sequence? "
   ]
  },
  {
   "cell_type": "markdown",
   "metadata": {},
   "source": [
    "A.australis (scorpion) mammalian neurotoxin II (AaH II) mRNA, complete cds"
   ]
  },
  {
   "cell_type": "markdown",
   "metadata": {},
   "source": [
    "## Problem 2. Sequence 2 Analysis\n",
    "Use the NCBI BLAST webservice to answer the following questions about this sequence.\n",
    "```\n",
    ">Sequence2\n",
    "CTAATAATCCTTGGAATACTCCTATATTTTGTATAAAGAAGAAATCAGGG\n",
    "AAATGGAGAATGCTAATTGATTTTAGAGAACTTAATGCAAAAACAGAAAA\n",
    "AGGAGCAGAAGTCCAATTAGGATTACCTCACCCATCTGGATTACAGAAGA\n",
    "GAAAGAATGTAACAGTTTTAGATATAGGAGATGCTTATTTTACCATCCCT\n",
    "TTAGATCCTGATTATCAGCCCTATACTGCATTTACTTTACCATCTAAGAA\n",
    "TAATCAAAGTCCAGGAAAAAGGTATATTTGGAAATCTCTTCCACAGGGGT\n",
    "GGGTCTTGAGTCCCTTAATATACCAGAGCACTCTAGATAATATTCTACAA\n",
    "CCATTTAGAA\n",
    "```"
   ]
  },
  {
   "cell_type": "markdown",
   "metadata": {},
   "source": [
    "A. What organism is the most likely source of the sequence? "
   ]
  },
  {
   "cell_type": "markdown",
   "metadata": {},
   "source": [
    "\"Feline\""
   ]
  },
  {
   "cell_type": "markdown",
   "metadata": {},
   "source": [
    "B. What is the translation of this sequence into protein? (You can compute this, or find it using BLAST results.)"
   ]
  },
  {
   "cell_type": "code",
   "execution_count": 5,
   "metadata": {},
   "outputs": [
    {
     "name": "stdout",
     "output_type": "stream",
     "text": [
      "LIILGILLYFVZRRNQGNGECZLILENLMQKQKKEQKSNZDYLUHLDYRRERMZQFZIZEMLILPSLZILIISPILHLLYHLRIIKVQEKGIFGNLFHRGGSZVPZYURALZIIFYNHLE\n"
     ]
    }
   ],
   "source": [
    "def dnatorna(dnastring):\n",
    "    rna = \"\"\n",
    "    for letter in dnastring:\n",
    "        if (letter == 'T'):\n",
    "            rna += \"U\"\n",
    "        else:\n",
    "            rna += letter\n",
    "    return rna\n",
    "codon_table = { \"UUU\": \"F\", \"UUC\": \"F\", \"UUA\":\"L\", \"UUG\":\"L\", \"CUU\": \"L\", \"CUC\": \"L\", \"CUA\":\"L\", \"CUG\":\"L\",\n",
    "              \"AUU\": \"I\", \"AUC\": \"I\", \"AUA\":\"I\", \"AUG\":\"M\", \"GUU\": \"V\", \"GUC\": \"V\", \"GUA\":\"V\", \"GUG\":\"V\",\n",
    "              \"UCU\":\"S\", \"UCC\":\"S\", \"UCA\":\"S\",\"UCG\":\"S\",\"CCU\":\"P\", \"CCC\":\"P\", \"CCA\":\"P\",\"CCG\":\"P\",\n",
    "              \"ACU\":\"U\", \"ACC\":\"U\", \"ACA\":\"U\",\"ACG\":\"U\",\"GCU\":\"A\", \"GCC\":\"A\", \"GCA\":\"A\",\"GCG\":\"A\",\n",
    "              \"UAU\":\"Y\",\"UAC\":\"Y\",\"UAA\":\"Z\",\"UAG\":\"Z\",\"CAU\":\"H\",\"CAC\":\"H\",\"CAA\":\"Q\",\"CAG\":\"Q\",\n",
    "              \"AAU\":\"N\",\"AAC\":\"N\", \"AAA\":\"K\", \"AAG\":\"K\",\"GAU\":\"D\",\"GAC\":\"D\",\"GAA\":\"E\",\"GAG\":\"E\",\n",
    "              \"UGU\":\"C\",\"UGC\":\"C\",\"UGA\":\"Z\",\"UGG\":\"W\",\"CGU\":\"R\",\"CGC\":\"R\",\"CGA\":\"R\",\"CGG\":\"R\",\n",
    "              \"AGU\":\"S\",\"AGC\":\"S\",\"AGA\":\"R\",\"AGG\":\"R\",\"GGU\":\"G\",\"GGC\":\"G\",\"GGA\":\"G\",\"GGG\":\"G\"}\n",
    "dna = \"CTAATAATCCTTGGAATACTCCTATATTTTGTATAAAGAAGAAATCAGGGAAATGGAGAATGCTAATTGATTTTAGAGAACTTAATGCAAAAACAGAAAAAGGAGCAGAAGTCCAATTAGGATTACCTCACCCATCTGGATTACAGAAGAGAAAGAATGTAACAGTTTTAGATATAGGAGATGCTTATTTTACCATCCCTTTAGATCCTGATTATCAGCCCTATACTGCATTTACTTTACCATCTAAGAATAATCAAAGTCCAGGAAAAAGGTATATTTGGAAATCTCTTCCACAGGGGTGGGTCTTGAGTCCCTTAATATACCAGAGCACTCTAGATAATATTCTACAACCATTTAGAA\"\n",
    "rnastring = dnatorna(dna)\n",
    "output = \"\"\n",
    "loc = 0\n",
    "while (loc + 2 < len(rnastring)):\n",
    "    codon = rnastring[loc:loc + 3]\n",
    "    output += codon_table[codon]\n",
    "    loc += 3\n",
    "print(output)"
   ]
  },
  {
   "cell_type": "markdown",
   "metadata": {},
   "source": [
    "LIILGILLYFVZRRNQGNGECZLILENLMQKQKKEQKSNZDYLUHLDYRRERMZQFZIZEMLILPSLZILIISPILHLLYHLRIIKVQEKGIFGNLFHRGGSZVPZYURALZIIFYNHLE"
   ]
  },
  {
   "cell_type": "markdown",
   "metadata": {},
   "source": [
    "## Problem 3. Sequence 3 Analysis\n",
    "Use the NCBI BLAST webservice to answer the questions about the following sequence.\n",
    "```\n",
    ">Sequence3\n",
    "TCTTGGTGAGGATCCGTTGAGAACAACCCAACCGCCGCCCCATCGCCCTN\n",
    "GTTAGANTNATGGCCGCGTCGGCGCTGCACCAGACCACCAGCTTCCTCNG\n",
    "CACCGCCCCTCGCCGGGATGAGCTCGTCCGCCGCGTCGGCGACTCCGGTG\n",
    "GCCGCATCACCATGCGCCGCACCGTCAAGAGCGCGCCCCAGAGCATCTGG\n",
    "TATGGACCTGACCGTCCCAAGTNCCTGGGCCCGTTCTCGGAGCAGACGCC\n",
    "ATCGTACCTGACCGGAGAGTTCCCGGGAGACTACGGGTGGGACACGGCGG\n",
    "GGCTATCGGCCGACCCGGANACGTTCGCTATGAACAGGGAGCTGGANGTG\n",
    "ATCCACTCNCGGTGGGCGATGCTGGGGGCGCTGGGCTGCGTCTTCCCGGA\n",
    "GATCCTGTCCAANAACGGGG\n",
    "````"
   ]
  },
  {
   "cell_type": "markdown",
   "metadata": {},
   "source": [
    "A. What organism is the source of the sequence? "
   ]
  },
  {
   "cell_type": "markdown",
   "metadata": {},
   "source": [
    "Oryza sativa Japonica Group"
   ]
  },
  {
   "cell_type": "markdown",
   "metadata": {},
   "source": [
    "B. What is the common name for this organism? "
   ]
  },
  {
   "cell_type": "markdown",
   "metadata": {},
   "source": [
    "Rice"
   ]
  },
  {
   "cell_type": "markdown",
   "metadata": {},
   "source": [
    "C. What is the percent identity of the best (non-predicted) matching sequence in the results? "
   ]
  },
  {
   "cell_type": "markdown",
   "metadata": {},
   "source": [
    "46%"
   ]
  },
  {
   "cell_type": "markdown",
   "metadata": {},
   "source": [
    "##  Problem 4\n",
    "\n",
    "Protein searches are usually more informative than DNA searches because amino acids provide more insight into the functionality of the gene. Using the NCBI webservice, conduct a [*blastp*](https://blast.ncbi.nlm.nih.gov/Blast.cgi?PAGE=Proteins) search using RBP4 (NP_006735). Next, do a [*blastn*](https://blast.ncbi.nlm.nih.gov/Blast.cgi?PROGRAM=blastn&PAGE_TYPE=BlastSearch&BLAST_SPEC=&LINK_LOC=blasttab&LAST_PAGE=blastp) search using the RBP4 nucleotide sequence (NM_006744). _To make the results easier to parse, you can restrict the output to Arthropoda (insects), but be consistent for both searches._\n",
    "\n",
    "```\n",
    ">NM_006744.4 Homo sapiens retinol binding protein 4 (RBP4), transcript variant 1, mRNA\n",
    "GCCTCCCTCGCTCCACGCGCGCCCGGACTCGGCGGCCAGGCTTGCGCGCGGTTCCCCTCCCGGTGGGCGG\n",
    "ATTCCTGGGCAAGATGAAGTGGGTGTGGGCGCTCTTGCTGTTGGCGGCGCTGGGCAGCGGCCGCGCGGAG\n",
    "CGCGACTGCCGAGTGAGCAGCTTCCGAGTCAAGGAGAACTTCGACAAGGCTCGCTTCTCTGGGACCTGGT\n",
    "ACGCCATGGCCAAGAAGGACCCCGAGGGCCTCTTTCTGCAGGACAACATCGTCGCGGAGTTCTCCGTGGA\n",
    "CGAGACCGGCCAGATGAGCGCCACAGCCAAGGGCCGAGTCCGTCTTTTGAATAACTGGGACGTGTGCGCA\n",
    "GACATGGTGGGCACCTTCACAGACACCGAGGACCCTGCCAAGTTCAAGATGAAGTACTGGGGCGTAGCCT\n",
    "CCTTTCTCCAGAAAGGAAATGATGACCACTGGATCGTCGACACAGACTACGACACGTATGCCGTGCAGTA\n",
    "CTCCTGCCGCCTCCTGAACCTCGATGGCACCTGTGCTGACAGCTACTCCTTCGTGTTTTCCCGGGACCCC\n",
    "AACGGCCTGCCCCCAGAAGCGCAGAAGATTGTAAGGCAGCGGCAGGAGGAGCTGTGCCTGGCCAGGCAGT\n",
    "ACAGGCTGATCGTCCACAACGGTTACTGCGATGGCAGATCAGAAAGAAACCTTTTGTAGCAATATCAAGA\n",
    "ATCTAGTTTCATCTGAGAACTTCTGATTAGCTCTCAGTCTTCAGCTCTATTTATCTTAGGAGTTTAATTT\n",
    "GCCCTTCTCTCCCCATCTTCCCTCAGTTCCCATAAAACCTTCATTACACATAAAGATACACGTGGGGGTC\n",
    "AGTGAATCTGCTTGCCTTTCCTGAAAGTTTCTGGGGCTTAAGATTCCAGACTCTGATTCATTAAACTATA\n",
    "GTCACCCGTGTCCTGTGATTTTAGTTTTCATTTGTGTTTATGTCTGTGCTGCAGACGGATGGGTGGGGTG\n",
    "CGCTTCTTTATACCAGGAGCACGTGGCTCTTTCTGACCTTTGGCCTGTTCTAGTGCCTAATCTCCATTAT\n",
    "TAAATACTGGCTTCTCCCAA\n",
    "```\n",
    "\n",
    "```\n",
    ">NP_006735.2 retinol-binding protein 4 isoform a precursor [Homo sapiens]\n",
    "MKWVWALLLLAALGSGRAERDCRVSSFRVKENFDKARFSGTWYAMAKKDPEGLFLQDNIVAEFSVDETGQ\n",
    "MSATAKGRVRLLNNWDVCADMVGTFTDTEDPAKFKMKYWGVASFLQKGNDDHWIVDTDYDTYAVQYSCRL\n",
    "LNLDGTCADSYSFVFSRDPNGLPPEAQKIVRQRQEELCLARQYRLIVHNGYCDGRSERNLL\n",
    "```"
   ]
  },
  {
   "cell_type": "markdown",
   "metadata": {},
   "source": [
    "A. How many databases matches have an E-value less than 1.0 in each search? "
   ]
  },
  {
   "cell_type": "markdown",
   "metadata": {
    "collapsed": true
   },
   "source": [
    "Blastp yields more than 100. Blastn gives absolutely nothing."
   ]
  },
  {
   "cell_type": "markdown",
   "metadata": {},
   "source": [
    "B. Which search is more informative? Why?"
   ]
  },
  {
   "cell_type": "markdown",
   "metadata": {},
   "source": [
    "Only 1 gives results so there is not much of a competition."
   ]
  },
  {
   "cell_type": "markdown",
   "metadata": {},
   "source": [
    "## Problem 5"
   ]
  },
  {
   "cell_type": "markdown",
   "metadata": {},
   "source": [
    "In the limit of sufficiently large sequence lengths m and n, the statistics of HSP scores are characterized by two parameters, $K$ and $\\lambda$.  The parameters $K$ and $\\lambda$ can be thought of simply as natural scales for the search space (ie. database) size and the scoring system respectively. Most simply, the expected number of HSPs with score at least S is given by the formula:\n",
    "\n",
    "$$ E = Kmn\\ e^{S\\lambda} $$\n",
    "\n",
    "We call this the E-value for the score S. This formula makes eminently intuitive sense. Doubling the length of either sequence should double the number of HSPs attaining a given score. Also, for an HSP to attain the score 2x it must attain the score x twice in a row, so one expects E to decrease exponentially with score. The parameters K and lambda can be thought of simply as natural scales for the search space size and the scoring system respectively."
   ]
  },
  {
   "cell_type": "markdown",
   "metadata": {},
   "source": [
    "Given everything else constant, how would you expect the E-value to change if we double the length of our query sequence, $m$?"
   ]
  },
  {
   "cell_type": "code",
   "execution_count": null,
   "metadata": {
    "collapsed": true
   },
   "outputs": [],
   "source": [
    "It should double."
   ]
  },
  {
   "cell_type": "markdown",
   "metadata": {},
   "source": [
    "Given everything else constant, how would you expect the E-value to change if we cut the size of our database in half?"
   ]
  },
  {
   "cell_type": "code",
   "execution_count": null,
   "metadata": {
    "collapsed": true
   },
   "outputs": [],
   "source": [
    "It should halve."
   ]
  },
  {
   "cell_type": "markdown",
   "metadata": {},
   "source": [
    "## Problem 6. Blast Optimization\n",
    "\n",
    "One of the paramters for BLAST, `-num_threads`, allows you to vary the number of threads used by the application. The default value is set to `1`. Using your locally installed version of BLAST, conduct a series of runs to determine the optimal number of threads to run on a single node.  \n",
    "\n",
    "Conduct a BLASTP search against the [pdbaa](https://ftp.ncbi.nlm.nih.gov/blast/db/FASTA) and [swissprot](https://ftp.ncbi.nlm.nih.gov/blast/db/FASTA). You will need to download the databases as FASTA files and convert them to a BLAST compatible database format.\n",
    "\n",
    "Conduct multiple runs and vary the number of cpus per node to 1, 2, 4, 8, 16, and 32 using the `-num_threads` parameter. \n",
    "\n",
    "Perform this experiment for the following sequences ([sequence1](https://raw.githubusercontent.com/uchicago-bio/mpcs56420-2020-autumn/master/module-4/assets/ndm1.fasta),[sequence2](https://raw.githubusercontent.com/uchicago-bio/mpcs56420-2020-autumn/master/module-4/assets/spike.fasta),[sequence3](https://raw.githubusercontent.com/uchicago-bio/mpcs56420-2020-autumn/master/module-4/assets/protein1.fasta)) and make note of the runtime. The runtime is available in the BLAST output or simply launch the jobs with the UNIX `time` command (seen below).\n",
    "\n",
    "```\n",
    "# Vary the number of thread BLAST uses and use the time command to measure the runtime\n",
    "time blastp -query sequence -db db  -num_threads 1 -out outfile\n",
    "```\n",
    "\n",
    "Complete the following table and Use `matplotlib` to plot the runtime versus the number threads for each sequence. Any the following questions."
   ]
  },
  {
   "cell_type": "markdown",
   "metadata": {},
   "source": [
    "|             | db | 2 | 4 | 6 | 8 | 16 | 32 |\n",
    "| ---         | ---  | --- | --- |--- | --- | --- | --- |\n",
    "| Seqeuence 1 | pdbaa  |  ? | ? | ? | ?  | ? | ? |\n",
    "| Sequence 2  | pdbaa   |  ? | ? | ? | ?  | ? | ? |\n",
    "| Sequence 3  | pdbaa   |  ? | ? | ? | ?  | ? | ? |\n",
    "| Seqeuence 1 | swissprot  |  ? | ? | ? | ?  | ? | ? |\n",
    "| Sequence 2  | swissprot   |  ? | ? | ? | ?  | ? | ? |\n",
    "| Sequence 3  | swissprot   |  ? | ? | ? | ?  | ? | ? |"
   ]
  },
  {
   "cell_type": "markdown",
   "metadata": {},
   "source": [
    "What do the results suggest would be the optimal number of threads to use on a single core to minimize the run time?  "
   ]
  },
  {
   "cell_type": "code",
   "execution_count": null,
   "metadata": {},
   "outputs": [],
   "source": []
  },
  {
   "cell_type": "markdown",
   "metadata": {},
   "source": [
    "Can you suggest or find reasons to explain the observed behavior? "
   ]
  },
  {
   "cell_type": "code",
   "execution_count": null,
   "metadata": {},
   "outputs": [],
   "source": []
  },
  {
   "cell_type": "markdown",
   "metadata": {},
   "source": [
    "What is the size difference between PDB and Swissprot? The NCBI `nr` database is 83G. Do you think using this database would change your results?"
   ]
  },
  {
   "cell_type": "code",
   "execution_count": null,
   "metadata": {},
   "outputs": [],
   "source": []
  }
 ],
 "metadata": {
  "anaconda-cloud": {},
  "kernelspec": {
   "display_name": "Python 3 (ipykernel)",
   "language": "python",
   "name": "python3"
  },
  "language_info": {
   "codemirror_mode": {
    "name": "ipython",
    "version": 3
   },
   "file_extension": ".py",
   "mimetype": "text/x-python",
   "name": "python",
   "nbconvert_exporter": "python",
   "pygments_lexer": "ipython3",
   "version": "3.8.16"
  }
 },
 "nbformat": 4,
 "nbformat_minor": 2
}
